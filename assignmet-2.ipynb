{
 "cells": [
  {
   "cell_type": "code",
   "execution_count": null,
   "id": "a55bc96c",
   "metadata": {
    "ExecuteTime": {
     "end_time": "2024-05-07T13:16:08.240456Z",
     "start_time": "2024-05-07T13:16:06.801144Z"
    }
   },
   "outputs": [],
   "source": [
    "import rospy\n",
    "import jupyros as jr\n",
    "import matplotlib as mpl\n",
    "import matplotlib.pyplot as plt"
   ]
  },
  {
   "cell_type": "code",
   "execution_count": null,
   "id": "b6ab8b3b",
   "metadata": {
    "ExecuteTime": {
     "end_time": "2024-05-07T13:16:08.260992Z",
     "start_time": "2024-05-07T13:16:08.247119Z"
    }
   },
   "outputs": [],
   "source": [
    "from assignment_2_2023.msg import PlanningGoal, PlanningAction\n",
    "from monitoring_package.msg import poseVelocity"
   ]
  },
  {
   "cell_type": "code",
   "execution_count": null,
   "id": "7d142e82",
   "metadata": {
    "ExecuteTime": {
     "start_time": "2024-05-07T13:16:07.671Z"
    }
   },
   "outputs": [],
   "source": [
    "rospy.init_node('jupyter_node')\n",
    "r = rospy.Rate(10) # 10hz"
   ]
  },
  {
   "cell_type": "code",
   "execution_count": null,
   "id": "6634104f",
   "metadata": {
    "ExecuteTime": {
     "start_time": "2024-05-07T13:16:08.341Z"
    },
    "scrolled": true
   },
   "outputs": [],
   "source": [
    "jr.action_client('reaching_goal', PlanningAction, PlanningGoal, callbacks={})"
   ]
  },
  {
   "cell_type": "code",
   "execution_count": null,
   "id": "2e74896a",
   "metadata": {
    "ExecuteTime": {
     "end_time": "2024-05-04T21:16:42.444211Z",
     "start_time": "2024-05-04T21:16:42.432288Z"
    }
   },
   "outputs": [],
   "source": []
  },
  {
   "cell_type": "code",
   "execution_count": null,
   "id": "f8f00a21",
   "metadata": {
    "ExecuteTime": {
     "end_time": "2024-05-04T21:16:42.493141Z",
     "start_time": "2024-05-04T21:16:42.452320Z"
    }
   },
   "outputs": [],
   "source": [
    "%matplotlib widget\n",
    "x_arr = []\n",
    "y_arr = []\n",
    "coord = []\n",
    "fig = plt.figure()\n",
    "ax = fig.add_axes([0,0,1,1])\n",
    "ax.set_xlim(0, 12)\n",
    "ax.set_ylim(0, 12)\n",
    "ax.set_xlim([-10, 10])\n",
    "ax.set_ylim([-10, 10])\n",
    "ax.plot(x_arr,y_arr, linestyle='none', marker='.')\n",
    "\n",
    "ax.set_title(\"position\")\n",
    "ax.set_xlabel(\"x\")\n",
    "ax.set_ylabel(\"y\")"
   ]
  },
  {
   "cell_type": "code",
   "execution_count": null,
   "id": "3a1d4a0a",
   "metadata": {
    "ExecuteTime": {
     "end_time": "2024-05-04T21:16:42.503996Z",
     "start_time": "2024-05-04T21:16:42.497790Z"
    }
   },
   "outputs": [],
   "source": [
    "def poseCallback(pV):\n",
    "    global x_arr, y_arr\n",
    "\n",
    "    if (len(x_arr) > 0 and len(y_arr) > 0):\n",
    "        if (((x_arr[-1]-pV.x)**2 + (y_arr[-1]-pV.y)**2)**0.5 < 0.1):\n",
    "            \n",
    "            x_arr.append(pV.x)\n",
    "            y_arr.append(pV.y)\n",
    "\n",
    "            \n",
    "    else:\n",
    "        x_arr.append(pV.x)\n",
    "        y_arr.append(pV.y)\n",
    "    plt.cla()\n",
    "    ax.set_xlim([-10, 10])\n",
    "    ax.set_ylim([-10, 10])\n",
    "    ax.plot(x_arr, y_arr, linestyle='none', marker='.')\n",
    "    plt.pause(0.05)\n",
    "    "
   ]
  },
  {
   "cell_type": "code",
   "execution_count": null,
   "id": "1ba0b9ef",
   "metadata": {
    "ExecuteTime": {
     "end_time": "2024-05-04T21:16:42.549824Z",
     "start_time": "2024-05-04T21:16:42.507043Z"
    }
   },
   "outputs": [],
   "source": [
    "jr.subscribe(\"/current_pose_velocity_publisher\", poseVelocity, callback=poseCallback)"
   ]
  },
  {
   "cell_type": "code",
   "execution_count": null,
   "id": "54bc49f9",
   "metadata": {
    "ExecuteTime": {
     "end_time": "2024-05-04T21:16:42.557041Z",
     "start_time": "2024-05-04T21:16:42.552447Z"
    }
   },
   "outputs": [],
   "source": [
    "print(x_arr)"
   ]
  },
  {
   "cell_type": "code",
   "execution_count": null,
   "id": "485e31e4",
   "metadata": {
    "ExecuteTime": {
     "end_time": "2024-05-04T21:16:42.566141Z",
     "start_time": "2024-05-04T21:16:42.559214Z"
    }
   },
   "outputs": [],
   "source": [
    "print(y_arr)"
   ]
  }
 ],
 "metadata": {
  "kernelspec": {
   "display_name": "Python 3 (ipykernel)",
   "language": "python",
   "name": "python3"
  },
  "language_info": {
   "codemirror_mode": {
    "name": "ipython",
    "version": 3
   },
   "file_extension": ".py",
   "mimetype": "text/x-python",
   "name": "python",
   "nbconvert_exporter": "python",
   "pygments_lexer": "ipython3",
   "version": "3.8.5"
  },
  "toc": {
   "base_numbering": 1,
   "nav_menu": {},
   "number_sections": true,
   "sideBar": true,
   "skip_h1_title": false,
   "title_cell": "Table of Contents",
   "title_sidebar": "Contents",
   "toc_cell": false,
   "toc_position": {},
   "toc_section_display": true,
   "toc_window_display": false
  },
  "varInspector": {
   "cols": {
    "lenName": 16,
    "lenType": 16,
    "lenVar": 40
   },
   "kernels_config": {
    "python": {
     "delete_cmd_postfix": "",
     "delete_cmd_prefix": "del ",
     "library": "var_list.py",
     "varRefreshCmd": "print(var_dic_list())"
    },
    "r": {
     "delete_cmd_postfix": ") ",
     "delete_cmd_prefix": "rm(",
     "library": "var_list.r",
     "varRefreshCmd": "cat(var_dic_list()) "
    }
   },
   "types_to_exclude": [
    "module",
    "function",
    "builtin_function_or_method",
    "instance",
    "_Feature"
   ],
   "window_display": false
  }
 },
 "nbformat": 4,
 "nbformat_minor": 5
}
