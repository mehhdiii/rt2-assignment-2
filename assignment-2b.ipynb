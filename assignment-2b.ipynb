{
 "cells": [
  {
   "cell_type": "code",
   "execution_count": 1,
   "id": "a55bc96c",
   "metadata": {
    "ExecuteTime": {
     "end_time": "2024-05-31T21:38:20.881513Z",
     "start_time": "2024-05-31T21:38:19.959642Z"
    }
   },
   "outputs": [],
   "source": [
    "import rospy\n",
    "import jupyros as jr\n",
    "import jupyros_action_client_patched as jr_patched\n",
    "import ipywidgets as widgets\n",
    "from IPython.display import display\n",
    "import matplotlib as mpl\n",
    "import matplotlib.pyplot as plt\n",
    "\n",
    "import tf\n",
    "from turtlesim.msg import Pose\n",
    "from tf.transformations import quaternion_matrix\n",
    "import numpy as np\n",
    "from matplotlib.animation import FuncAnimation"
   ]
  },
  {
   "cell_type": "code",
   "execution_count": 2,
   "id": "b6ab8b3b",
   "metadata": {
    "ExecuteTime": {
     "end_time": "2024-05-31T21:38:20.895693Z",
     "start_time": "2024-05-31T21:38:20.888424Z"
    }
   },
   "outputs": [],
   "source": [
    "from assignment_2_2023.msg import PlanningGoal, PlanningAction\n",
    "from monitoring_package.msg import poseVelocity"
   ]
  },
  {
   "cell_type": "code",
   "execution_count": 3,
   "id": "7d142e82",
   "metadata": {
    "ExecuteTime": {
     "end_time": "2024-05-31T21:38:21.059534Z",
     "start_time": "2024-05-31T21:38:20.897627Z"
    }
   },
   "outputs": [],
   "source": [
    "rospy.init_node('jupyter_node')\n",
    "# r = rospy.Rate(10) # 10hz"
   ]
  },
  {
   "cell_type": "code",
   "execution_count": 4,
   "id": "ef7f3fd0",
   "metadata": {
    "ExecuteTime": {
     "end_time": "2024-05-31T21:38:21.080324Z",
     "start_time": "2024-05-31T21:38:21.061433Z"
    }
   },
   "outputs": [],
   "source": [
    "cancelled_goals_html = widgets.HTML(\n",
    "    value = ''\n",
    ")\n",
    "sent_goal_html = widgets.HTML(value = '')\n"
   ]
  },
  {
   "cell_type": "code",
   "execution_count": 5,
   "id": "cb3669f0",
   "metadata": {
    "ExecuteTime": {
     "end_time": "2024-05-31T21:38:21.089735Z",
     "start_time": "2024-05-31T21:38:21.081664Z"
    }
   },
   "outputs": [],
   "source": [
    "goals_achieved = 0\n",
    "goals_cancelled = 0\n",
    "\n",
    "x_goal, y_goal = (0, 0)\n",
    "new_goal_flag = False\n",
    "\n",
    "cancelled_goals = []\n",
    "achieved_goals = []\n",
    "def action_feedback_callback(e):\n",
    "    global goals_cancelled, goals_achieved, cancelled_goals, cancelled_goals_html, achieved_goals, x_goal, y_goal\n",
    "#     if (e.stat.strip() == 'Target cancelled!'):\n",
    "#         rospy.loginfo('feedback received:')\n",
    "#         goals_cancelled+=1\n",
    "#         cancelled_goals.append((x_goal, y_goal)) \n",
    "#         cancelled_goals_html.value=\"<br>\".join(f\"Pose {i+1}: ({cancelled_goals[i][0]}, {cancelled_goals[i][1]})\" for i in range(0, len(cancelled_goals)))\n",
    "        \n",
    "        \n",
    "    if (e.stat.strip() == 'Target reached!'):\n",
    "        goals_achieved+=1\n",
    "        achieved_goals.append((x_goal, y_goal))\n",
    "def cancelled_callback():\n",
    "    global goals_cancelled, x_goal, y_goal\n",
    "    rospy.loginfo('feedback received:')\n",
    "    goals_cancelled+=1\n",
    "    cancelled_goals.append((x_goal, y_goal)) \n",
    "    cancelled_goals_html.value=\"<br>\".join(f\"Pose {i+1}: ({cancelled_goals[i][0]}, {cancelled_goals[i][1]})\" for i in range(0, len(cancelled_goals)))\n",
    "        \n",
    "        \n",
    "def sent_goal_callback(m):\n",
    "    global x_goal, y_goal, new_goal_flag\n",
    "    x_goal = m.target_pose.pose.position.x\n",
    "    y_goal = m.target_pose.pose.position.y\n",
    "    new_goal_flag = True\n",
    "    \n",
    "    \n"
   ]
  },
  {
   "cell_type": "code",
   "execution_count": 6,
   "id": "6634104f",
   "metadata": {
    "ExecuteTime": {
     "end_time": "2024-05-31T21:38:21.360044Z",
     "start_time": "2024-05-31T21:38:21.092207Z"
    },
    "scrolled": true
   },
   "outputs": [
    {
     "name": "stdout",
     "output_type": "stream",
     "text": [
      "[INFO] [1717191501.104272, 3653.687000]: [REACHING_GOAL] Waiting for action server.\n",
      "[INFO] [1717191501.157667, 3653.741000]: [REACHING_GOAL] Connection to server successful.\n",
      "last_sent_goal_cb[ <function sent_goal_callback at 0x7f8b7edb5b80>]\n",
      "[INFO] [1717191501.159775, 3653.741000]: last_sent_goal_cb[ <function sent_goal_callback at 0x7f8b7edb5b80>]\n"
     ]
    },
    {
     "data": {
      "application/vnd.jupyter.widget-view+json": {
       "model_id": "48ab1d5c935d4bd7beb7f0376c796f88",
       "version_major": 2,
       "version_minor": 0
      },
      "text/plain": [
       "VBox(children=(Label(value='target_pose'), Label(value='header'), HBox(children=(Label(value='seq', layout=Lay…"
      ]
     },
     "metadata": {},
     "output_type": "display_data"
    }
   ],
   "source": [
    "jr_patched.action_client('reaching_goal', PlanningAction, PlanningGoal, callbacks={'feedback_cb': action_feedback_callback, 'last_sent_goal_cb': sent_goal_callback, 'cancel_cb': cancelled_callback})"
   ]
  },
  {
   "cell_type": "code",
   "execution_count": 7,
   "id": "f8f00a21",
   "metadata": {
    "ExecuteTime": {
     "end_time": "2024-05-31T21:38:21.380602Z",
     "start_time": "2024-05-31T21:38:21.365369Z"
    }
   },
   "outputs": [],
   "source": [
    "\n",
    "\n",
    "MAX_SIZE = 10000\n",
    "class Visualiser:\n",
    "    def __init__(self):\n",
    "        self.fig, self.ax = plt.subplots()\n",
    "        self.ln, = plt.plot([], [], 'ro')\n",
    "        self.ln2, = plt.plot([], [], 'bs')\n",
    "        self.x_data, self.y_data = [] , []\n",
    "        self.x_goal, self.y_goal = [], []\n",
    "\n",
    "    def plot_init(self):\n",
    "        self.ax.set_xlim(-10, 10)\n",
    "        self.ax.set_ylim(-10, 10)\n",
    "        return self.ln, self.ln2\n",
    "\n",
    "    def poseCallback(self, pV):\n",
    "        global x_arr, y_arr\n",
    "\n",
    "        if (len(self.x_data) > 0 and len(self.y_data) > 0):\n",
    "            if (((self.x_data[-1]-pV.x)**2 + (self.y_data[-1]-pV.y)**2)**0.5 < 0.1):\n",
    "                self.x_data.append(pV.x)\n",
    "                self.y_data.append(pV.y)\n",
    "\n",
    "            if (len(self.x_data)>MAX_SIZE):\n",
    "                self.x_data = self.x_data[len(self.x_data)//2:]\n",
    "                self.y_data = self.y_data[len(self.y_data)//2:]\n",
    "\n",
    "\n",
    "        else:\n",
    "            self.x_data.append(pV.x)\n",
    "            self.y_data.append(pV.y)\n",
    "\n",
    "        global x_goal, y_goal, new_goal_flag, sent_goal_html\n",
    "        if (new_goal_flag):\n",
    "            self.x_goal.append(x_goal)\n",
    "            self.y_goal.append(y_goal)\n",
    "            sent_goal_html.value=\"<br>\".join(f\"Pose {i+1}: ({self.x_goal[i]}, {self.y_goal[i]})\" for i in range(len(self.x_goal)))\n",
    "\n",
    "            new_goal_flag = False\n",
    "        \n",
    "        self.update_current_location()\n",
    "        \n",
    "    def update_current_location(self):\n",
    "        global x_current_widget, y_current_widget\n",
    "        x_current_widget.value = self.x_data[-1]\n",
    "        y_current_widget.value = self.y_data[-1]\n",
    "        \n",
    "\n",
    "    def update_plot(self, frame):\n",
    "        self.ln.set_data(self.x_data, self.y_data)\n",
    "        \n",
    "        xg, yg = [], []\n",
    "        try:\n",
    "            xg = self.x_goal[-1]\n",
    "            yg = self.y_goal[-1]\n",
    "            \n",
    "        except:\n",
    "            pass\n",
    "        \n",
    "        self.ln2.set_data(xg, yg)\n",
    "        return self.ln, self.ln2\n",
    "\n"
   ]
  },
  {
   "cell_type": "code",
   "execution_count": 8,
   "id": "13f28561",
   "metadata": {
    "ExecuteTime": {
     "end_time": "2024-05-31T21:38:21.413743Z",
     "start_time": "2024-05-31T21:38:21.382816Z"
    }
   },
   "outputs": [
    {
     "data": {
      "application/vnd.jupyter.widget-view+json": {
       "model_id": "5a73aafcfd5748fea5be2c184af5e221",
       "version_major": 2,
       "version_minor": 0
      },
      "text/plain": [
       "Label(value='current pose')"
      ]
     },
     "metadata": {},
     "output_type": "display_data"
    },
    {
     "data": {
      "application/vnd.jupyter.widget-view+json": {
       "model_id": "bfa43c4157ea4c2da93c1da71fe8aab0",
       "version_major": 2,
       "version_minor": 0
      },
      "text/plain": [
       "FloatText(value=0.0, description='x:', disabled=True)"
      ]
     },
     "metadata": {},
     "output_type": "display_data"
    },
    {
     "data": {
      "application/vnd.jupyter.widget-view+json": {
       "model_id": "c89e6cab0d7d4eba83a2af56485af8ee",
       "version_major": 2,
       "version_minor": 0
      },
      "text/plain": [
       "FloatText(value=0.0, description='y:', disabled=True)"
      ]
     },
     "metadata": {},
     "output_type": "display_data"
    }
   ],
   "source": [
    "label = widgets.Label(value = 'current pose' )\n",
    "display(label)\n",
    "x_current_widget = widgets.FloatText(value=0, description='x:', disabled=True)\n",
    "display(x_current_widget)\n",
    "y_current_widget = widgets.FloatText(value=0, description='y:', disabled=True)\n",
    "display(y_current_widget)"
   ]
  },
  {
   "cell_type": "code",
   "execution_count": 9,
   "id": "f7408556",
   "metadata": {
    "ExecuteTime": {
     "end_time": "2024-05-31T21:38:21.485522Z",
     "start_time": "2024-05-31T21:38:21.416806Z"
    }
   },
   "outputs": [
    {
     "data": {
      "application/vnd.jupyter.widget-view+json": {
       "model_id": "b8ac8128ee6b48668390e4a776950e74",
       "version_major": 2,
       "version_minor": 0
      },
      "text/plain": [
       "Canvas(toolbar=Toolbar(toolitems=[('Home', 'Reset original view', 'home', 'home'), ('Back', 'Back to previous …"
      ]
     },
     "metadata": {},
     "output_type": "display_data"
    }
   ],
   "source": [
    "# Create the animation\n",
    "%matplotlib widget\n",
    "# Create a new figure and add a subplot\n",
    "\n",
    "vis = Visualiser()\n",
    "rospy.Subscriber(\"/current_pose_velocity_publisher\", poseVelocity, callback=vis.poseCallback)\n",
    "ani = FuncAnimation(vis.fig, vis.update_plot, init_func=vis.plot_init)\n",
    "plt.title('Position of robot and latest goal')\n",
    "plt.legend(['Position of robot', 'goal'])\n",
    "plt.show(block=True)"
   ]
  },
  {
   "cell_type": "code",
   "execution_count": 10,
   "id": "54bc49f9",
   "metadata": {
    "ExecuteTime": {
     "end_time": "2024-05-31T21:38:21.534255Z",
     "start_time": "2024-05-31T21:38:21.487734Z"
    }
   },
   "outputs": [
    {
     "data": {
      "application/vnd.jupyter.widget-view+json": {
       "model_id": "e87f6fd260ef48e89e5c7c8069fc032f",
       "version_major": 2,
       "version_minor": 0
      },
      "text/plain": [
       "Label(value='Set goals:')"
      ]
     },
     "metadata": {},
     "output_type": "display_data"
    },
    {
     "data": {
      "application/vnd.jupyter.widget-view+json": {
       "model_id": "f472e0e66c414868b92e942be91a8069",
       "version_major": 2,
       "version_minor": 0
      },
      "text/plain": [
       "HTML(value='')"
      ]
     },
     "metadata": {},
     "output_type": "display_data"
    },
    {
     "data": {
      "application/vnd.jupyter.widget-view+json": {
       "model_id": "4441b086365e40d698cbaf72e8ee3537",
       "version_major": 2,
       "version_minor": 0
      },
      "text/plain": [
       "Label(value='Cancelled goals:')"
      ]
     },
     "metadata": {},
     "output_type": "display_data"
    },
    {
     "data": {
      "application/vnd.jupyter.widget-view+json": {
       "model_id": "a36534b9c64749e6a3aa8d74ce1a6ad2",
       "version_major": 2,
       "version_minor": 0
      },
      "text/plain": [
       "HTML(value='')"
      ]
     },
     "metadata": {},
     "output_type": "display_data"
    }
   ],
   "source": [
    "set_goal_label = widgets.Label(value = 'Set goals:')\n",
    "display(set_goal_label)\n",
    "\n",
    "display(sent_goal_html)\n",
    "\n",
    "set_goal_label = widgets.Label(value = 'Cancelled goals:')\n",
    "display(set_goal_label)\n",
    "\n",
    "display(cancelled_goals_html)"
   ]
  },
  {
   "cell_type": "code",
   "execution_count": 15,
   "id": "485e31e4",
   "metadata": {
    "ExecuteTime": {
     "end_time": "2024-05-31T21:39:14.421185Z",
     "start_time": "2024-05-31T21:39:14.382851Z"
    }
   },
   "outputs": [
    {
     "data": {
      "application/vnd.jupyter.widget-view+json": {
       "model_id": "e6de1b75251c40e29a363849197996cb",
       "version_major": 2,
       "version_minor": 0
      },
      "text/plain": [
       "Canvas(toolbar=Toolbar(toolitems=[('Home', 'Reset original view', 'home', 'home'), ('Back', 'Back to previous …"
      ]
     },
     "metadata": {},
     "output_type": "display_data"
    },
    {
     "ename": "AttributeError",
     "evalue": "'Figure' object has no attribute 'title'",
     "output_type": "error",
     "traceback": [
      "\u001b[0;31m---------------------------------------------------------------------------\u001b[0m",
      "\u001b[0;31mAttributeError\u001b[0m                            Traceback (most recent call last)",
      "\u001b[0;32m/tmp/ipykernel_77485/2154924738.py\u001b[0m in \u001b[0;36m<module>\u001b[0;34m\u001b[0m\n\u001b[1;32m      1\u001b[0m \u001b[0mfig\u001b[0m\u001b[0;34m,\u001b[0m \u001b[0max\u001b[0m \u001b[0;34m=\u001b[0m \u001b[0mplt\u001b[0m\u001b[0;34m.\u001b[0m\u001b[0msubplots\u001b[0m\u001b[0;34m(\u001b[0m\u001b[0;34m)\u001b[0m\u001b[0;34m\u001b[0m\u001b[0;34m\u001b[0m\u001b[0m\n\u001b[0;32m----> 2\u001b[0;31m \u001b[0mfig\u001b[0m\u001b[0;34m.\u001b[0m\u001b[0mtitle\u001b[0m\u001b[0;34m(\u001b[0m\u001b[0;34m'goals stats'\u001b[0m\u001b[0;34m)\u001b[0m\u001b[0;34m\u001b[0m\u001b[0;34m\u001b[0m\u001b[0m\n\u001b[0m\u001b[1;32m      3\u001b[0m \u001b[0;34m\u001b[0m\u001b[0m\n\u001b[1;32m      4\u001b[0m \u001b[0mbp\u001b[0m \u001b[0;34m=\u001b[0m \u001b[0;32mNone\u001b[0m\u001b[0;34m\u001b[0m\u001b[0;34m\u001b[0m\u001b[0m\n\u001b[1;32m      5\u001b[0m \u001b[0;32mdef\u001b[0m \u001b[0mcb\u001b[0m\u001b[0;34m(\u001b[0m\u001b[0mframe\u001b[0m\u001b[0;34m)\u001b[0m\u001b[0;34m:\u001b[0m\u001b[0;34m\u001b[0m\u001b[0;34m\u001b[0m\u001b[0m\n",
      "\u001b[0;31mAttributeError\u001b[0m: 'Figure' object has no attribute 'title'"
     ]
    }
   ],
   "source": [
    "fig, ax = plt.subplots()\n",
    "\n",
    "bp = None\n",
    "def cb(frame):\n",
    "    global vis, cancelled_goals, bp, fig, ax, achieved_goals\n",
    "    xlabels = ['Sent', 'Cancelled', 'Achieved']\n",
    "    count = [len(vis.x_goal), len(cancelled_goals), len(achieved_goals)] \n",
    "    ax.cla()\n",
    "    # Redraw box plot\n",
    "    bp = ax.bar(xlabels, count, color='blue', width=0.6)\n",
    "    plt.show()\n",
    "    \n",
    "    return bp,\n",
    "    \n",
    "    \n",
    "    \n",
    "\n",
    "ani2 = FuncAnimation(fig, cb)\n",
    "# plt.show(block=True)\n"
   ]
  },
  {
   "cell_type": "code",
   "execution_count": null,
   "id": "0f8354e0",
   "metadata": {},
   "outputs": [],
   "source": []
  }
 ],
 "metadata": {
  "kernelspec": {
   "display_name": "Python 3 (ipykernel)",
   "language": "python",
   "name": "python3"
  },
  "language_info": {
   "codemirror_mode": {
    "name": "ipython",
    "version": 3
   },
   "file_extension": ".py",
   "mimetype": "text/x-python",
   "name": "python",
   "nbconvert_exporter": "python",
   "pygments_lexer": "ipython3",
   "version": "3.8.5"
  },
  "toc": {
   "base_numbering": 1,
   "nav_menu": {},
   "number_sections": true,
   "sideBar": true,
   "skip_h1_title": false,
   "title_cell": "Table of Contents",
   "title_sidebar": "Contents",
   "toc_cell": false,
   "toc_position": {},
   "toc_section_display": true,
   "toc_window_display": false
  },
  "varInspector": {
   "cols": {
    "lenName": 16,
    "lenType": 16,
    "lenVar": 40
   },
   "kernels_config": {
    "python": {
     "delete_cmd_postfix": "",
     "delete_cmd_prefix": "del ",
     "library": "var_list.py",
     "varRefreshCmd": "print(var_dic_list())"
    },
    "r": {
     "delete_cmd_postfix": ") ",
     "delete_cmd_prefix": "rm(",
     "library": "var_list.r",
     "varRefreshCmd": "cat(var_dic_list()) "
    }
   },
   "types_to_exclude": [
    "module",
    "function",
    "builtin_function_or_method",
    "instance",
    "_Feature"
   ],
   "window_display": false
  }
 },
 "nbformat": 4,
 "nbformat_minor": 5
}
