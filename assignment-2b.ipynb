{
 "cells": [
  {
   "cell_type": "code",
   "execution_count": 1,
   "id": "a55bc96c",
   "metadata": {
    "ExecuteTime": {
     "end_time": "2024-05-31T21:40:50.851942Z",
     "start_time": "2024-05-31T21:40:49.886439Z"
    }
   },
   "outputs": [],
   "source": [
    "import rospy\n",
    "import jupyros as jr\n",
    "import jupyros_action_client_patched as jr_patched\n",
    "import ipywidgets as widgets\n",
    "from IPython.display import display\n",
    "import matplotlib as mpl\n",
    "import matplotlib.pyplot as plt\n",
    "\n",
    "import tf\n",
    "from turtlesim.msg import Pose\n",
    "from tf.transformations import quaternion_matrix\n",
    "import numpy as np\n",
    "from matplotlib.animation import FuncAnimation"
   ]
  },
  {
   "cell_type": "code",
   "execution_count": 2,
   "id": "b6ab8b3b",
   "metadata": {
    "ExecuteTime": {
     "end_time": "2024-05-31T21:40:50.864418Z",
     "start_time": "2024-05-31T21:40:50.856456Z"
    }
   },
   "outputs": [],
   "source": [
    "from assignment_2_2023.msg import PlanningGoal, PlanningAction\n",
    "from monitoring_package.msg import poseVelocity"
   ]
  },
  {
   "cell_type": "code",
   "execution_count": 3,
   "id": "7d142e82",
   "metadata": {
    "ExecuteTime": {
     "end_time": "2024-05-31T21:40:51.011051Z",
     "start_time": "2024-05-31T21:40:50.867642Z"
    }
   },
   "outputs": [],
   "source": [
    "rospy.init_node('jupyter_node')\n",
    "# r = rospy.Rate(10) # 10hz"
   ]
  },
  {
   "cell_type": "code",
   "execution_count": 4,
   "id": "ef7f3fd0",
   "metadata": {
    "ExecuteTime": {
     "end_time": "2024-05-31T21:40:51.042577Z",
     "start_time": "2024-05-31T21:40:51.015295Z"
    }
   },
   "outputs": [],
   "source": [
    "cancelled_goals_html = widgets.HTML(\n",
    "    value = ''\n",
    ")\n",
    "sent_goal_html = widgets.HTML(value = '')\n"
   ]
  },
  {
   "cell_type": "code",
   "execution_count": 5,
   "id": "cb3669f0",
   "metadata": {
    "ExecuteTime": {
     "end_time": "2024-05-31T21:40:51.053294Z",
     "start_time": "2024-05-31T21:40:51.044814Z"
    }
   },
   "outputs": [],
   "source": [
    "goals_achieved = 0\n",
    "goals_cancelled = 0\n",
    "\n",
    "x_goal, y_goal = (0, 0)\n",
    "new_goal_flag = False\n",
    "\n",
    "cancelled_goals = []\n",
    "achieved_goals = []\n",
    "def action_feedback_callback(e):\n",
    "    global goals_cancelled, goals_achieved, cancelled_goals, cancelled_goals_html, achieved_goals, x_goal, y_goal\n",
    "#     if (e.stat.strip() == 'Target cancelled!'):\n",
    "#         rospy.loginfo('feedback received:')\n",
    "#         goals_cancelled+=1\n",
    "#         cancelled_goals.append((x_goal, y_goal)) \n",
    "#         cancelled_goals_html.value=\"<br>\".join(f\"Pose {i+1}: ({cancelled_goals[i][0]}, {cancelled_goals[i][1]})\" for i in range(0, len(cancelled_goals)))\n",
    "        \n",
    "        \n",
    "    if (e.stat.strip() == 'Target reached!'):\n",
    "        goals_achieved+=1\n",
    "        achieved_goals.append((x_goal, y_goal))\n",
    "def cancelled_callback():\n",
    "    global goals_cancelled, x_goal, y_goal\n",
    "    rospy.loginfo('feedback received:')\n",
    "    goals_cancelled+=1\n",
    "    cancelled_goals.append((x_goal, y_goal)) \n",
    "    cancelled_goals_html.value=\"<br>\".join(f\"Pose {i+1}: ({cancelled_goals[i][0]}, {cancelled_goals[i][1]})\" for i in range(0, len(cancelled_goals)))\n",
    "        \n",
    "        \n",
    "def sent_goal_callback(m):\n",
    "    global x_goal, y_goal, new_goal_flag\n",
    "    x_goal = m.target_pose.pose.position.x\n",
    "    y_goal = m.target_pose.pose.position.y\n",
    "    new_goal_flag = True\n",
    "    \n",
    "    \n"
   ]
  },
  {
   "cell_type": "code",
   "execution_count": 6,
   "id": "6634104f",
   "metadata": {
    "ExecuteTime": {
     "end_time": "2024-05-31T21:40:51.345854Z",
     "start_time": "2024-05-31T21:40:51.056488Z"
    },
    "scrolled": true
   },
   "outputs": [
    {
     "name": "stdout",
     "output_type": "stream",
     "text": [
      "[INFO] [1717191651.076464, 3800.142000]: [REACHING_GOAL] Waiting for action server.\n",
      "[INFO] [1717191651.110215, 3800.173000]: [REACHING_GOAL] Connection to server successful.\n",
      "last_sent_goal_cb[ <function sent_goal_callback at 0x7f66fd3fad30>]\n",
      "[INFO] [1717191651.111914, 3800.174000]: last_sent_goal_cb[ <function sent_goal_callback at 0x7f66fd3fad30>]\n"
     ]
    },
    {
     "data": {
      "application/vnd.jupyter.widget-view+json": {
       "model_id": "98a6f88950a74baebd7dc40aebef6584",
       "version_major": 2,
       "version_minor": 0
      },
      "text/plain": [
       "VBox(children=(Label(value='target_pose'), Label(value='header'), HBox(children=(Label(value='seq', layout=Lay…"
      ]
     },
     "metadata": {},
     "output_type": "display_data"
    },
    {
     "name": "stdout",
     "output_type": "stream",
     "text": [
      "[INFO] [1717191666.093683, 3814.889000]: [REACHING_GOAL] The action has been cancelled.\n",
      "[INFO] [1717191666.096537, 3814.892000]: feedback received:\n",
      "[INFO] [1717191666.407446, 3815.192000]: [REACHING_GOAL] The action has been cancelled.\n",
      "[INFO] [1717191666.412501, 3815.198000]: feedback received:\n"
     ]
    }
   ],
   "source": [
    "jr_patched.action_client('reaching_goal', PlanningAction, PlanningGoal, callbacks={'feedback_cb': action_feedback_callback, 'last_sent_goal_cb': sent_goal_callback, 'cancel_cb': cancelled_callback})"
   ]
  },
  {
   "cell_type": "code",
   "execution_count": 7,
   "id": "f8f00a21",
   "metadata": {
    "ExecuteTime": {
     "end_time": "2024-05-31T21:40:51.359909Z",
     "start_time": "2024-05-31T21:40:51.348991Z"
    }
   },
   "outputs": [],
   "source": [
    "\n",
    "\n",
    "MAX_SIZE = 10000\n",
    "class Visualiser:\n",
    "    def __init__(self):\n",
    "        self.fig, self.ax = plt.subplots()\n",
    "        self.ln, = plt.plot([], [], 'ro')\n",
    "        self.ln2, = plt.plot([], [], 'bs')\n",
    "        self.x_data, self.y_data = [] , []\n",
    "        self.x_goal, self.y_goal = [], []\n",
    "\n",
    "    def plot_init(self):\n",
    "        self.ax.set_xlim(-10, 10)\n",
    "        self.ax.set_ylim(-10, 10)\n",
    "        return self.ln, self.ln2\n",
    "\n",
    "    def poseCallback(self, pV):\n",
    "        global x_arr, y_arr\n",
    "\n",
    "        if (len(self.x_data) > 0 and len(self.y_data) > 0):\n",
    "            if (((self.x_data[-1]-pV.x)**2 + (self.y_data[-1]-pV.y)**2)**0.5 < 0.1):\n",
    "                self.x_data.append(pV.x)\n",
    "                self.y_data.append(pV.y)\n",
    "\n",
    "            if (len(self.x_data)>MAX_SIZE):\n",
    "                self.x_data = self.x_data[len(self.x_data)//2:]\n",
    "                self.y_data = self.y_data[len(self.y_data)//2:]\n",
    "\n",
    "\n",
    "        else:\n",
    "            self.x_data.append(pV.x)\n",
    "            self.y_data.append(pV.y)\n",
    "\n",
    "        global x_goal, y_goal, new_goal_flag, sent_goal_html\n",
    "        if (new_goal_flag):\n",
    "            self.x_goal.append(x_goal)\n",
    "            self.y_goal.append(y_goal)\n",
    "            sent_goal_html.value=\"<br>\".join(f\"Pose {i+1}: ({self.x_goal[i]}, {self.y_goal[i]})\" for i in range(len(self.x_goal)))\n",
    "\n",
    "            new_goal_flag = False\n",
    "        \n",
    "        self.update_current_location()\n",
    "        \n",
    "    def update_current_location(self):\n",
    "        global x_current_widget, y_current_widget\n",
    "        x_current_widget.value = self.x_data[-1]\n",
    "        y_current_widget.value = self.y_data[-1]\n",
    "        \n",
    "\n",
    "    def update_plot(self, frame):\n",
    "        self.ln.set_data(self.x_data, self.y_data)\n",
    "        \n",
    "        xg, yg = [], []\n",
    "        try:\n",
    "            xg = self.x_goal[-1]\n",
    "            yg = self.y_goal[-1]\n",
    "            \n",
    "        except:\n",
    "            pass\n",
    "        \n",
    "        self.ln2.set_data(xg, yg)\n",
    "        return self.ln, self.ln2\n",
    "\n"
   ]
  },
  {
   "cell_type": "code",
   "execution_count": 8,
   "id": "13f28561",
   "metadata": {
    "ExecuteTime": {
     "end_time": "2024-05-31T21:40:51.391542Z",
     "start_time": "2024-05-31T21:40:51.361940Z"
    }
   },
   "outputs": [
    {
     "data": {
      "application/vnd.jupyter.widget-view+json": {
       "model_id": "dbf8c19d1af040419e1c4ac36bddc7e0",
       "version_major": 2,
       "version_minor": 0
      },
      "text/plain": [
       "Label(value='current pose')"
      ]
     },
     "metadata": {},
     "output_type": "display_data"
    },
    {
     "data": {
      "application/vnd.jupyter.widget-view+json": {
       "model_id": "24731e884f78493c811ad4e3f47cf5e2",
       "version_major": 2,
       "version_minor": 0
      },
      "text/plain": [
       "FloatText(value=0.0, description='x:', disabled=True)"
      ]
     },
     "metadata": {},
     "output_type": "display_data"
    },
    {
     "data": {
      "application/vnd.jupyter.widget-view+json": {
       "model_id": "7b1a21705a5a454da34af548d318a296",
       "version_major": 2,
       "version_minor": 0
      },
      "text/plain": [
       "FloatText(value=0.0, description='y:', disabled=True)"
      ]
     },
     "metadata": {},
     "output_type": "display_data"
    }
   ],
   "source": [
    "label = widgets.Label(value = 'current pose' )\n",
    "display(label)\n",
    "x_current_widget = widgets.FloatText(value=0, description='x:', disabled=True)\n",
    "display(x_current_widget)\n",
    "y_current_widget = widgets.FloatText(value=0, description='y:', disabled=True)\n",
    "display(y_current_widget)"
   ]
  },
  {
   "cell_type": "code",
   "execution_count": 9,
   "id": "f7408556",
   "metadata": {
    "ExecuteTime": {
     "end_time": "2024-05-31T21:40:51.442864Z",
     "start_time": "2024-05-31T21:40:51.393766Z"
    }
   },
   "outputs": [
    {
     "data": {
      "application/vnd.jupyter.widget-view+json": {
       "model_id": "a95f186563484b418ddd4a732d123a0a",
       "version_major": 2,
       "version_minor": 0
      },
      "text/plain": [
       "Canvas(toolbar=Toolbar(toolitems=[('Home', 'Reset original view', 'home', 'home'), ('Back', 'Back to previous …"
      ]
     },
     "metadata": {},
     "output_type": "display_data"
    }
   ],
   "source": [
    "# Create the animation\n",
    "%matplotlib widget\n",
    "# Create a new figure and add a subplot\n",
    "\n",
    "vis = Visualiser()\n",
    "rospy.Subscriber(\"/current_pose_velocity_publisher\", poseVelocity, callback=vis.poseCallback)\n",
    "ani = FuncAnimation(vis.fig, vis.update_plot, init_func=vis.plot_init)\n",
    "plt.title('Position of robot and latest goal')\n",
    "plt.legend(['Position of robot', 'goal'])\n",
    "plt.show(block=True)"
   ]
  },
  {
   "cell_type": "code",
   "execution_count": 10,
   "id": "54bc49f9",
   "metadata": {
    "ExecuteTime": {
     "end_time": "2024-05-31T21:40:51.498922Z",
     "start_time": "2024-05-31T21:40:51.445229Z"
    }
   },
   "outputs": [
    {
     "data": {
      "application/vnd.jupyter.widget-view+json": {
       "model_id": "79936657a5cc4d358273a66e660fdac2",
       "version_major": 2,
       "version_minor": 0
      },
      "text/plain": [
       "Label(value='Set goals:')"
      ]
     },
     "metadata": {},
     "output_type": "display_data"
    },
    {
     "data": {
      "application/vnd.jupyter.widget-view+json": {
       "model_id": "9e6c49eca0dd4a7e82fcf80cc3bffa3c",
       "version_major": 2,
       "version_minor": 0
      },
      "text/plain": [
       "HTML(value='')"
      ]
     },
     "metadata": {},
     "output_type": "display_data"
    },
    {
     "data": {
      "application/vnd.jupyter.widget-view+json": {
       "model_id": "0d0d29192b034b578ab4162e376600ea",
       "version_major": 2,
       "version_minor": 0
      },
      "text/plain": [
       "Label(value='Cancelled goals:')"
      ]
     },
     "metadata": {},
     "output_type": "display_data"
    },
    {
     "data": {
      "application/vnd.jupyter.widget-view+json": {
       "model_id": "9af169128a85427fb4288c56de0492f3",
       "version_major": 2,
       "version_minor": 0
      },
      "text/plain": [
       "HTML(value='')"
      ]
     },
     "metadata": {},
     "output_type": "display_data"
    }
   ],
   "source": [
    "set_goal_label = widgets.Label(value = 'Set goals:')\n",
    "display(set_goal_label)\n",
    "\n",
    "display(sent_goal_html)\n",
    "\n",
    "set_goal_label = widgets.Label(value = 'Cancelled goals:')\n",
    "display(set_goal_label)\n",
    "\n",
    "display(cancelled_goals_html)"
   ]
  },
  {
   "cell_type": "code",
   "execution_count": 11,
   "id": "485e31e4",
   "metadata": {
    "ExecuteTime": {
     "end_time": "2024-05-31T21:40:51.556672Z",
     "start_time": "2024-05-31T21:40:51.505945Z"
    }
   },
   "outputs": [
    {
     "data": {
      "application/vnd.jupyter.widget-view+json": {
       "model_id": "d380611a67fa48df80cc9997f119f3a1",
       "version_major": 2,
       "version_minor": 0
      },
      "text/plain": [
       "Canvas(toolbar=Toolbar(toolitems=[('Home', 'Reset original view', 'home', 'home'), ('Back', 'Back to previous …"
      ]
     },
     "metadata": {},
     "output_type": "display_data"
    }
   ],
   "source": [
    "fig, ax = plt.subplots()\n",
    "\n",
    "bp = None\n",
    "def cb(frame):\n",
    "    global vis, cancelled_goals, bp, fig, ax, achieved_goals\n",
    "    xlabels = ['Sent', 'Cancelled', 'Achieved']\n",
    "    count = [len(vis.x_goal), len(cancelled_goals), len(achieved_goals)] \n",
    "    ax.cla()\n",
    "    # Redraw box plot\n",
    "    bp = ax.bar(xlabels, count, color='blue', width=0.6)\n",
    "    plt.show()\n",
    "    \n",
    "    return bp,\n",
    "    \n",
    "    \n",
    "    \n",
    "\n",
    "ani2 = FuncAnimation(fig, cb)\n",
    "# plt.show(block=True)\n"
   ]
  },
  {
   "cell_type": "code",
   "execution_count": null,
   "id": "49035ac5",
   "metadata": {},
   "outputs": [],
   "source": []
  }
 ],
 "metadata": {
  "kernelspec": {
   "display_name": "Python 3 (ipykernel)",
   "language": "python",
   "name": "python3"
  },
  "language_info": {
   "codemirror_mode": {
    "name": "ipython",
    "version": 3
   },
   "file_extension": ".py",
   "mimetype": "text/x-python",
   "name": "python",
   "nbconvert_exporter": "python",
   "pygments_lexer": "ipython3",
   "version": "3.8.5"
  },
  "toc": {
   "base_numbering": 1,
   "nav_menu": {},
   "number_sections": true,
   "sideBar": true,
   "skip_h1_title": false,
   "title_cell": "Table of Contents",
   "title_sidebar": "Contents",
   "toc_cell": false,
   "toc_position": {},
   "toc_section_display": true,
   "toc_window_display": false
  },
  "varInspector": {
   "cols": {
    "lenName": 16,
    "lenType": 16,
    "lenVar": 40
   },
   "kernels_config": {
    "python": {
     "delete_cmd_postfix": "",
     "delete_cmd_prefix": "del ",
     "library": "var_list.py",
     "varRefreshCmd": "print(var_dic_list())"
    },
    "r": {
     "delete_cmd_postfix": ") ",
     "delete_cmd_prefix": "rm(",
     "library": "var_list.r",
     "varRefreshCmd": "cat(var_dic_list()) "
    }
   },
   "types_to_exclude": [
    "module",
    "function",
    "builtin_function_or_method",
    "instance",
    "_Feature"
   ],
   "window_display": false
  }
 },
 "nbformat": 4,
 "nbformat_minor": 5
}
