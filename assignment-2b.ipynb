{
 "cells": [
  {
   "cell_type": "code",
   "execution_count": 1,
   "id": "a55bc96c",
   "metadata": {
    "ExecuteTime": {
     "end_time": "2024-05-27T17:28:30.951682Z",
     "start_time": "2024-05-27T17:28:30.359727Z"
    }
   },
   "outputs": [],
   "source": [
    "import rospy\n",
    "import jupyros as jr\n",
    "import jupyros_action_client_patched as jr_patched\n",
    "\n",
    "import matplotlib as mpl\n",
    "import matplotlib.pyplot as plt"
   ]
  },
  {
   "cell_type": "code",
   "execution_count": 2,
   "id": "b6ab8b3b",
   "metadata": {
    "ExecuteTime": {
     "end_time": "2024-05-27T17:28:31.660821Z",
     "start_time": "2024-05-27T17:28:31.656388Z"
    }
   },
   "outputs": [],
   "source": [
    "from assignment_2_2023.msg import PlanningGoal, PlanningAction\n",
    "from monitoring_package.msg import poseVelocity"
   ]
  },
  {
   "cell_type": "code",
   "execution_count": 3,
   "id": "7d142e82",
   "metadata": {
    "ExecuteTime": {
     "end_time": "2024-05-27T17:28:33.181151Z",
     "start_time": "2024-05-27T17:28:33.007722Z"
    }
   },
   "outputs": [],
   "source": [
    "rospy.init_node('jupyter_node')\n",
    "r = rospy.Rate(10) # 10hz"
   ]
  },
  {
   "cell_type": "code",
   "execution_count": 4,
   "id": "cb3669f0",
   "metadata": {
    "ExecuteTime": {
     "end_time": "2024-05-27T17:28:34.189238Z",
     "start_time": "2024-05-27T17:28:34.184616Z"
    }
   },
   "outputs": [],
   "source": [
    "goals_achieved = 0\n",
    "goals_cancelled = 0\n",
    "\n",
    "x_goal, y_goal = (1, 1)\n",
    "\n",
    "def action_feedback_callback(e):\n",
    "    global goals_cancelled, goals_achieved\n",
    "    if (e.stat.strip() == 'Target cancelled!'):\n",
    "        goals_cancelled+=1\n",
    "    elif (e.stat.strip() == 'Target reached!'):\n",
    "        goals_achieved+=1\n",
    "        \n",
    "def sent_goal_callback(m):\n",
    "    global x_goal, y_goal\n",
    "    x_goal = m.target_pose.pose.position.x\n",
    "    y_goal = m.target_pose.pose.position.y\n",
    "    \n"
   ]
  },
  {
   "cell_type": "code",
   "execution_count": 5,
   "id": "6634104f",
   "metadata": {
    "ExecuteTime": {
     "end_time": "2024-05-27T17:28:35.421240Z",
     "start_time": "2024-05-27T17:28:35.202050Z"
    },
    "scrolled": true
   },
   "outputs": [
    {
     "name": "stdout",
     "output_type": "stream",
     "text": [
      "[INFO] [1716830915.218699, 4178.721000]: [REACHING_GOAL] Waiting for action server.\n",
      "[INFO] [1716830915.263731, 4178.769000]: [REACHING_GOAL] Connection to server successful.\n"
     ]
    },
    {
     "data": {
      "application/vnd.jupyter.widget-view+json": {
       "model_id": "d7dcc08b31104faa8afe02bf0d7a2ad7",
       "version_major": 2,
       "version_minor": 0
      },
      "text/plain": [
       "VBox(children=(Label(value='target_pose'), Label(value='header'), HBox(children=(Label(value='seq', layout=Lay…"
      ]
     },
     "metadata": {},
     "output_type": "display_data"
    }
   ],
   "source": [
    "jr_patched.action_client('reaching_goal', PlanningAction, PlanningGoal, callbacks={'feedback_cb': action_feedback_callback, 'last_sent_goal_cb': sent_goal_callback})"
   ]
  },
  {
   "cell_type": "code",
   "execution_count": 6,
   "id": "085fc54d",
   "metadata": {
    "ExecuteTime": {
     "end_time": "2024-05-27T17:28:38.294966Z",
     "start_time": "2024-05-27T17:28:38.291955Z"
    }
   },
   "outputs": [
    {
     "name": "stdout",
     "output_type": "stream",
     "text": [
      "0 0\n",
      "1 1\n"
     ]
    }
   ],
   "source": [
    "print(goals_achieved, goals_cancelled)\n",
    "print(x_goal, y_goal)"
   ]
  },
  {
   "cell_type": "code",
   "execution_count": 7,
   "id": "f8f00a21",
   "metadata": {
    "ExecuteTime": {
     "end_time": "2024-05-27T17:28:41.458642Z",
     "start_time": "2024-05-27T17:28:41.290761Z"
    }
   },
   "outputs": [],
   "source": [
    "import matplotlib.pyplot as plt\n",
    "import rospy\n",
    "import tf\n",
    "from turtlesim.msg import Pose\n",
    "from tf.transformations import quaternion_matrix\n",
    "import numpy as np\n",
    "from matplotlib.animation import FuncAnimation\n",
    "\n",
    "class Visualiser:\n",
    "    def __init__(self):\n",
    "        self.fig, self.ax = plt.subplots()\n",
    "        self.ln, = plt.plot([], [], 'ro')\n",
    "        self.ln2 = plt.plot([], [], 'bs')\n",
    "        self.x_data, self.y_data = [] , []\n",
    "        self.x_goal, self.y_goal = [], []\n",
    "\n",
    "    def plot_init(self):\n",
    "        self.ax.set_xlim(0, 10)\n",
    "        self.ax.set_ylim(0, 10)\n",
    "        return self.ln, self.ln2\n",
    "\n",
    "    def poseCallback(self, pV):\n",
    "        print('called')\n",
    "        global x_arr, y_arr\n",
    "\n",
    "        if (len(self.x_data) > 0 and len(self.y_data) > 0):\n",
    "            if (((self.x_data[-1]-pV.x)**2 + (self.y_data[-1]-pV.y)**2)**0.5 < 0.1):\n",
    "\n",
    "#                 self.x_data.append(pV.x)\n",
    "                self.x_data = [pV.x]\n",
    "                self.y_data = [pV.y]\n",
    "#                 self.y_data.append(pV.y)\n",
    "\n",
    "\n",
    "        else:\n",
    "#             self.x_data.append(pV.x)\n",
    "#             self.y_data.append(pV.y)\n",
    "            self.x_data = [pV.x]\n",
    "            self.y_data = [pV.y]\n",
    "        global x_goal, y_goal\n",
    "        self.x_goal, self.y_goal = 5, 5\n",
    "\n",
    "    def update_plot(self, frame):\n",
    "        self.ln.set_data(self.x_data, self.y_data)\n",
    "        self.ln2.set_data(self.x_goal, self.y_goal)\n",
    "        return self.ln, self.ln2\n",
    "\n"
   ]
  },
  {
   "cell_type": "code",
   "execution_count": 8,
   "id": "3a1d4a0a",
   "metadata": {
    "ExecuteTime": {
     "end_time": "2024-05-27T17:28:42.358092Z",
     "start_time": "2024-05-27T17:28:42.354118Z"
    }
   },
   "outputs": [],
   "source": [
    "\n",
    "#     plt.cla()\n",
    "#     ax.set_xlim([-10, 10])\n",
    "#     ax.set_ylim([-10, 10])\n",
    "#     ax.plot(x_arr, y_arr, linestyle='none', marker='.')\n",
    "#     plt.pause(0.05)\n",
    "\n",
    "    "
   ]
  },
  {
   "cell_type": "code",
   "execution_count": null,
   "id": "1ba0b9ef",
   "metadata": {
    "ExecuteTime": {
     "end_time": "2024-05-27T16:59:36.924277Z",
     "start_time": "2024-05-27T16:59:36.891648Z"
    }
   },
   "outputs": [],
   "source": []
  },
  {
   "cell_type": "code",
   "execution_count": 9,
   "id": "f7408556",
   "metadata": {
    "ExecuteTime": {
     "end_time": "2024-05-27T17:28:43.661639Z",
     "start_time": "2024-05-27T17:28:43.582564Z"
    }
   },
   "outputs": [
    {
     "data": {
      "application/vnd.jupyter.widget-view+json": {
       "model_id": "97b837908cfd4027a68b76a77eea41e8",
       "version_major": 2,
       "version_minor": 0
      },
      "text/plain": [
       "Canvas(toolbar=Toolbar(toolitems=[('Home', 'Reset original view', 'home', 'home'), ('Back', 'Back to previous …"
      ]
     },
     "metadata": {},
     "output_type": "display_data"
    }
   ],
   "source": [
    "# Create the animation\n",
    "%matplotlib widget\n",
    "# Create a new figure and add a subplot\n",
    "\n",
    "vis = Visualiser()\n",
    "jr.subscribe(\"/current_pose_velocity_publisher\", poseVelocity, callback=vis.poseCallback)\n",
    "ani = FuncAnimation(vis.fig, vis.update_plot, init_func=vis.plot_init)\n",
    "plt.show(block=True)"
   ]
  },
  {
   "cell_type": "code",
   "execution_count": null,
   "id": "54bc49f9",
   "metadata": {
    "ExecuteTime": {
     "end_time": "2024-05-27T17:28:07.943449Z",
     "start_time": "2024-05-27T17:28:07.933773Z"
    }
   },
   "outputs": [],
   "source": [
    "print(vis.x_goal)"
   ]
  },
  {
   "cell_type": "code",
   "execution_count": null,
   "id": "485e31e4",
   "metadata": {
    "ExecuteTime": {
     "end_time": "2024-05-27T17:28:07.948713Z",
     "start_time": "2024-05-27T17:28:07.945690Z"
    }
   },
   "outputs": [],
   "source": [
    "# print(y_arr)"
   ]
  },
  {
   "cell_type": "code",
   "execution_count": null,
   "id": "2d6d459a",
   "metadata": {
    "ExecuteTime": {
     "end_time": "2024-05-27T17:28:07.953430Z",
     "start_time": "2024-05-27T17:28:07.950883Z"
    }
   },
   "outputs": [],
   "source": [
    "# print(goals_achieved)\n"
   ]
  },
  {
   "cell_type": "markdown",
   "id": "ce59d327",
   "metadata": {},
   "source": []
  }
 ],
 "metadata": {
  "kernelspec": {
   "display_name": "Python 3 (ipykernel)",
   "language": "python",
   "name": "python3"
  },
  "language_info": {
   "codemirror_mode": {
    "name": "ipython",
    "version": 3
   },
   "file_extension": ".py",
   "mimetype": "text/x-python",
   "name": "python",
   "nbconvert_exporter": "python",
   "pygments_lexer": "ipython3",
   "version": "3.8.5"
  },
  "toc": {
   "base_numbering": 1,
   "nav_menu": {},
   "number_sections": true,
   "sideBar": true,
   "skip_h1_title": false,
   "title_cell": "Table of Contents",
   "title_sidebar": "Contents",
   "toc_cell": false,
   "toc_position": {},
   "toc_section_display": true,
   "toc_window_display": false
  },
  "varInspector": {
   "cols": {
    "lenName": 16,
    "lenType": 16,
    "lenVar": 40
   },
   "kernels_config": {
    "python": {
     "delete_cmd_postfix": "",
     "delete_cmd_prefix": "del ",
     "library": "var_list.py",
     "varRefreshCmd": "print(var_dic_list())"
    },
    "r": {
     "delete_cmd_postfix": ") ",
     "delete_cmd_prefix": "rm(",
     "library": "var_list.r",
     "varRefreshCmd": "cat(var_dic_list()) "
    }
   },
   "types_to_exclude": [
    "module",
    "function",
    "builtin_function_or_method",
    "instance",
    "_Feature"
   ],
   "window_display": false
  }
 },
 "nbformat": 4,
 "nbformat_minor": 5
}
